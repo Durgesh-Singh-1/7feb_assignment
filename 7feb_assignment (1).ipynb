{
 "cells": [
  {
   "cell_type": "code",
   "execution_count": 13,
   "id": "223b2375-705f-486e-9b30-c590c9e4a225",
   "metadata": {},
   "outputs": [
    {
     "name": "stdin",
     "output_type": "stream",
     "text": [
      "Enter your password:  DKss@#$123\n"
     ]
    },
    {
     "name": "stdout",
     "output_type": "stream",
     "text": [
      "Valid Password\n"
     ]
    }
   ],
   "source": [
    "password = input(\"Enter your password: \")\n",
    "\n",
    "if len(password) != 10:\n",
    "    print(\"Invalid Password: Password length should be 10 characters long\")\n",
    "else:\n",
    "    uppercase_count = 0\n",
    "    for char in password:\n",
    "        if char.isupper():\n",
    "            uppercase_count += 1\n",
    "    if uppercase_count < 2:\n",
    "        print(\"Invalid Password: Password should contain at least two uppercase letters\")\n",
    "    else:\n",
    "        lowercase_count = 0\n",
    "        for char in password:\n",
    "            if char.islower():\n",
    "                lowercase_count += 1\n",
    "        if lowercase_count < 2:\n",
    "            print(\"Invalid Password: Password should contain at least two lowercase letters\")\n",
    "        else:\n",
    "            num_count = 0\n",
    "            special_count = 0\n",
    "            for char in password:\n",
    "                if char.isnumeric():\n",
    "                    num_count += 1\n",
    "                elif char in \"!@#$%^&*(),.?\\\":{}|<>\":\n",
    "                    special_count += 1\n",
    "            if num_count < 1 or special_count < 3:\n",
    "                print(\"Invalid Password: Password should contain at least a number and three special characters\")\n",
    "            else:\n",
    "                print(\"Valid Password\")\n"
   ]
  },
  {
   "cell_type": "code",
   "execution_count": 14,
   "id": "312c3c0f-1d80-4219-a8df-44c7c8fb87ee",
   "metadata": {},
   "outputs": [],
   "source": [
    "# 2 ans :- "
   ]
  },
  {
   "cell_type": "code",
   "execution_count": 24,
   "id": "eb97789f-4201-4386-9e93-41e1f12733f5",
   "metadata": {},
   "outputs": [
    {
     "name": "stdout",
     "output_type": "stream",
     "text": [
      "[2, 4, 6, 8, 10]\n"
     ]
    }
   ],
   "source": [
    "# Check if a given number is even\n",
    "# lambda and filter \n",
    "numbers = [1, 2, 3, 4, 5, 6, 7, 8, 9, 10]\n",
    "even_numbers = list(filter(lambda n: n % 2 == 0, numbers))\n",
    "print(even_numbers)"
   ]
  },
  {
   "cell_type": "code",
   "execution_count": 25,
   "id": "25204488-afdc-43a5-b4ab-101bbbfcbf8e",
   "metadata": {},
   "outputs": [
    {
     "name": "stdout",
     "output_type": "stream",
     "text": [
      "[1, 3, 5, 7, 9]\n"
     ]
    }
   ],
   "source": [
    "# Filter odd numbers from the given list:\n",
    "# comprehension\n",
    "numbers = [1, 2, 3, 4, 5, 6, 7, 8, 9, 10]\n",
    "odd_numbers = [n for n in numbers if n % 2 != 0]\n",
    "print(odd_numbers)"
   ]
  },
  {
   "cell_type": "code",
   "execution_count": 43,
   "id": "33b9bd50-4f4f-4e05-bfef-da5b77ee7fd0",
   "metadata": {},
   "outputs": [
    {
     "name": "stdout",
     "output_type": "stream",
     "text": [
      "1.0\n",
      "1.2599210498948732\n",
      "1.4422495703074083\n",
      "1.5874010519681994\n",
      "1.7099759466766968\n",
      "1.8171205928321397\n",
      "1.912931182772389\n",
      "2.0\n",
      "2.080083823051904\n",
      "2.154434690031884\n"
     ]
    }
   ],
   "source": [
    "# Find the cube root of numbers from 1 to 10\n",
    "# map \n",
    "def cube_root(num):\n",
    "    return num**(1/3)\n",
    "\n",
    "result = map(cube_root, range(1, 11))\n",
    "\n",
    "for i in result:\n",
    "    print(i)\n"
   ]
  },
  {
   "cell_type": "code",
   "execution_count": 45,
   "id": "bc95fe99-b45b-4478-985a-ae06b2306028",
   "metadata": {},
   "outputs": [
    {
     "name": "stdout",
     "output_type": "stream",
     "text": [
      "Positive Numbers:  [1, 2, 3, 4, 5, 6]\n",
      "Negative Numbers:  [-1, -2, -3, -4, -5]\n"
     ]
    }
   ],
   "source": [
    "#list comprehension\n",
    "numbers = [1, 2, 3, 4, 5, 6, -1, -2, -3, -4, -5, 0]\n",
    "positive_nums = [num for num in numbers if num > 0]\n",
    "negative_nums = [num for num in numbers if num < 0]\n",
    "\n",
    "print(\"Positive Numbers: \", positive_nums)\n",
    "print(\"Negative Numbers: \", negative_nums)\n"
   ]
  },
  {
   "cell_type": "code",
   "execution_count": null,
   "id": "879068e8-9d92-4fb2-a7b6-6953d659d97f",
   "metadata": {},
   "outputs": [],
   "source": []
  }
 ],
 "metadata": {
  "kernelspec": {
   "display_name": "Python 3 (ipykernel)",
   "language": "python",
   "name": "python3"
  },
  "language_info": {
   "codemirror_mode": {
    "name": "ipython",
    "version": 3
   },
   "file_extension": ".py",
   "mimetype": "text/x-python",
   "name": "python",
   "nbconvert_exporter": "python",
   "pygments_lexer": "ipython3",
   "version": "3.10.8"
  }
 },
 "nbformat": 4,
 "nbformat_minor": 5
}
